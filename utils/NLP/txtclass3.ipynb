{
 "cells": [
  {
   "cell_type": "code",
   "execution_count": 1,
   "id": "6f79dfb5-2d22-493a-867b-b1c742a06969",
   "metadata": {
    "tags": []
   },
   "outputs": [],
   "source": [
    "id2label = {0: \"Bathroom\", 1: \"Elevator\", 2: \"Classroom\", 3: \"Dean's office\", 4: \"Library\", 5: \"Starbucks\", 6: \"Dose\", 7: \"Coffee shop\", 8: \"Jamoka\", 9: \"Segafredo\", 10: \"Robotics Lab\", 11: \"Prince Turki Center\", 12: \"Sports Center\"}\n",
    "label2id = {\"Bathroom\": 0, \"Elevator\": 1, \"Classroom\": 2, \"Dean's office\": 3, \"Library\": 4, \"Starbucks\": 5, \"Dose\": 6, \"Coffee shop\": 7, \"Jamoka\": 8, \"Segafredo\": 9, \"Robotics Lab\": 10, \"Prince Turki Center\": 11, \"Sports Center\": 12}"
   ]
  },
  {
   "cell_type": "code",
   "execution_count": 2,
   "id": "b3b83943-a303-4be2-b8cf-af6095ff0eb4",
   "metadata": {
    "tags": []
   },
   "outputs": [
    {
     "name": "stderr",
     "output_type": "stream",
     "text": [
      "Some weights of BertForSequenceClassification were not initialized from the model checkpoint at bert-base-uncased and are newly initialized: ['classifier.bias', 'classifier.weight']\n",
      "You should probably TRAIN this model on a down-stream task to be able to use it for predictions and inference.\n"
     ]
    },
    {
     "data": {
      "text/html": [
       "\n",
       "    <div>\n",
       "      \n",
       "      <progress value='630' max='630' style='width:300px; height:20px; vertical-align: middle;'></progress>\n",
       "      [630/630 07:28, Epoch 10/10]\n",
       "    </div>\n",
       "    <table border=\"1\" class=\"dataframe\">\n",
       "  <thead>\n",
       " <tr style=\"text-align: left;\">\n",
       "      <th>Step</th>\n",
       "      <th>Training Loss</th>\n",
       "    </tr>\n",
       "  </thead>\n",
       "  <tbody>\n",
       "    <tr>\n",
       "      <td>500</td>\n",
       "      <td>0.881400</td>\n",
       "    </tr>\n",
       "  </tbody>\n",
       "</table><p>"
      ],
      "text/plain": [
       "<IPython.core.display.HTML object>"
      ]
     },
     "metadata": {},
     "output_type": "display_data"
    },
    {
     "data": {
      "text/html": [
       "\n",
       "    <div>\n",
       "      \n",
       "      <progress value='16' max='16' style='width:300px; height:20px; vertical-align: middle;'></progress>\n",
       "      [16/16 00:02]\n",
       "    </div>\n",
       "    "
      ],
      "text/plain": [
       "<IPython.core.display.HTML object>"
      ]
     },
     "metadata": {},
     "output_type": "display_data"
    },
    {
     "name": "stdout",
     "output_type": "stream",
     "text": [
      "{'eval_loss': 0.0029572637286037207, 'eval_runtime': 2.8666, 'eval_samples_per_second': 43.606, 'eval_steps_per_second': 5.582, 'epoch': 10.0}\n"
     ]
    }
   ],
   "source": [
    "from transformers import BertTokenizer, BertForSequenceClassification, Trainer, TrainingArguments\n",
    "from sklearn.model_selection import train_test_split\n",
    "import torch\n",
    "from torch.utils.data import Dataset, DataLoader\n",
    "from tqdm import tqdm\n",
    "import pandas as pd\n",
    "\n",
    "# Load your own dataset from a CSV file or another source\n",
    "# Replace 'your_dataset.csv' with the actual path to your CSV file\n",
    "your_dataset = pd.read_csv('/Users/lara/Desktop/Dash-NLP/destinations.csv')\n",
    "\n",
    "# Split the dataset into training and validation sets\n",
    "train_data, val_data = train_test_split(your_dataset, test_size=0.2, random_state=42)\n",
    "\n",
    "# Define a custom dataset class\n",
    "class CustomDataset(Dataset):\n",
    "    def __init__(self, texts, labels, tokenizer, max_length=128):\n",
    "        self.texts = texts\n",
    "        self.labels = labels\n",
    "        self.tokenizer = tokenizer\n",
    "        self.max_length = max_length\n",
    "\n",
    "    def __len__(self):\n",
    "        return len(self.texts)\n",
    "\n",
    "    def __getitem__(self, idx):\n",
    "        text = str(self.texts.iloc[idx])\n",
    "        label_str = str(self.labels.iloc[idx])  # Get the string label from the DataFrame\n",
    "        label = label2id[label_str]  # Convert the string label to integer using label2id mapping\n",
    "\n",
    "        encoding = self.tokenizer(\n",
    "            text,\n",
    "            truncation=True,\n",
    "            max_length=self.max_length,\n",
    "            padding='max_length',\n",
    "            return_tensors='pt'\n",
    "        )\n",
    "\n",
    "        return {\n",
    "            'input_ids': encoding['input_ids'].flatten(),\n",
    "            'attention_mask': encoding['attention_mask'].flatten(),\n",
    "            'labels': torch.tensor(label, dtype=torch.long)\n",
    "        }\n",
    "\n",
    "# Load pre-trained BERT model and tokenizer\n",
    "model = BertForSequenceClassification.from_pretrained('bert-base-uncased', num_labels=len(label2id))\n",
    "tokenizer = BertTokenizer.from_pretrained('bert-base-uncased')\n",
    "\n",
    "# Create instances of the custom dataset\n",
    "train_dataset = CustomDataset(train_data['sentence'], train_data['class'], tokenizer)\n",
    "val_dataset = CustomDataset(val_data['sentence'], val_data['class'], tokenizer)\n",
    "\n",
    "# Define training arguments and trainer\n",
    "training_args = TrainingArguments(\n",
    "    output_dir='./results',\n",
    "    num_train_epochs=10,\n",
    "    per_device_train_batch_size=8,\n",
    "    per_device_eval_batch_size=8,\n",
    "    warmup_steps=500,\n",
    "    weight_decay=0.01,\n",
    "    logging_dir='./logs',\n",
    ")\n",
    "\n",
    "trainer = Trainer(\n",
    "    model=model,\n",
    "    args=training_args,\n",
    "    train_dataset=train_dataset,\n",
    "    eval_dataset=val_dataset,\n",
    ")\n",
    "\n",
    "# Fine-tune the model\n",
    "trainer.train()\n",
    "\n",
    "# Evaluate the fine-tuned model\n",
    "results = trainer.evaluate()\n",
    "print(results)\n"
   ]
  },
  {
   "cell_type": "code",
   "execution_count": 4,
   "id": "9dc0dcb9-c999-450b-950b-510cb177274b",
   "metadata": {
    "tags": []
   },
   "outputs": [],
   "source": [
    "tokenizer.save_pretrained('./fine_tuned_model/tokenizer')\n",
    "model.save_pretrained('./fine_tuned_model')  "
   ]
  },
  {
   "cell_type": "code",
   "execution_count": 7,
   "id": "59725926-c4b6-4d82-9664-b5eedef88981",
   "metadata": {
    "tags": []
   },
   "outputs": [
    {
     "name": "stdout",
     "output_type": "stream",
     "text": [
      "Sentence: take me to the dean's office please.\t Predicted Class: Dean's office\n",
      "Sentence: can you please take me to the bathroom?\t Predicted Class: Bathroom\n",
      "Sentence: where's the elevator?\t Predicted Class: Elevator\n",
      "Sentence: can you take me to classroom.\t Predicted Class: Classroom\n"
     ]
    }
   ],
   "source": [
    "from transformers import BertTokenizer, BertForSequenceClassification\n",
    "import torch\n",
    "\n",
    "# Load the fine-tuned model and tokenizer\n",
    "model = BertForSequenceClassification.from_pretrained('./fine_tuned_model')  # Specify the path to the directory where you saved the fine-tuned model\n",
    "tokenizer = BertTokenizer.from_pretrained('./fine_tuned_model/tokenizer')  # Specify the path to the directory where you saved the tokenizer\n",
    "\n",
    "# Function to get predictions for a list of sentences\n",
    "def predict_class(sentences):\n",
    "    inputs = tokenizer(sentences, truncation=True, padding=True, return_tensors='pt')\n",
    "    outputs = model(**inputs)\n",
    "    logits = outputs.logits\n",
    "    probabilities = torch.nn.functional.softmax(logits, dim=1)\n",
    "    predicted_class = torch.argmax(probabilities, dim=1).tolist()\n",
    "    return predicted_class\n",
    "\n",
    "# Example usage\n",
    "new_sentences = [\"take me to the dean's office please.\", \"can you please take me to the bathroom?\", \"where's the elevator?\", \"can you take me to classroom.\"]\n",
    "predicted_classes = predict_class(new_sentences)\n",
    "\n",
    "# Map predicted class indices back to class labels using label2id\n",
    "predicted_class_labels = [id2label[idx] for idx in predicted_classes]\n",
    "\n",
    "# Print the results\n",
    "for sentence, predicted_label in zip(new_sentences, predicted_class_labels):\n",
    "    print(f\"Sentence: {sentence}\\t Predicted Class: {predicted_label}\")\n"
   ]
  },
  {
   "cell_type": "code",
   "execution_count": 8,
   "id": "a4cd0a3c-b475-4e5f-92dc-065f8498c57b",
   "metadata": {
    "tags": []
   },
   "outputs": [
    {
     "name": "stdout",
     "output_type": "stream",
     "text": [
      "['Coffee shop']\n"
     ]
    }
   ],
   "source": [
    "new_sentence = \"where's the closest coffee shop from here?\"\n",
    "pclass = predict_class(new_sentence)\n",
    "pclasslabel = [id2label[idx] for idx in pclass]\n",
    "print(pclasslabel)"
   ]
  },
  {
   "cell_type": "code",
   "execution_count": null,
   "id": "4a63718a-558a-4d1c-a270-7f04d6726831",
   "metadata": {},
   "outputs": [],
   "source": []
  }
 ],
 "metadata": {
  "kernelspec": {
   "display_name": "Python 3 (ipykernel)",
   "language": "python",
   "name": "python3"
  },
  "language_info": {
   "codemirror_mode": {
    "name": "ipython",
    "version": 3
   },
   "file_extension": ".py",
   "mimetype": "text/x-python",
   "name": "python",
   "nbconvert_exporter": "python",
   "pygments_lexer": "ipython3",
   "version": "3.11.5"
  }
 },
 "nbformat": 4,
 "nbformat_minor": 5
}
